{
 "cells": [
  {
   "cell_type": "code",
   "execution_count": 2,
   "id": "ad62249a",
   "metadata": {},
   "outputs": [],
   "source": [
    "import numpy as np\n",
    "import matplotlib.pyplot as plt"
   ]
  },
  {
   "cell_type": "markdown",
   "id": "13c1dee8",
   "metadata": {},
   "source": [
    "## Question (a): 1D interstitial diffusion"
   ]
  },
  {
   "cell_type": "markdown",
   "id": "f1e1a255",
   "metadata": {},
   "source": [
    "Given Table 2.1 in Porter & Easterling, for nitrogen diffusing interstitially in BCC iron, we have\n",
    "\n",
    "$D_0 = 0.3mm^2s^{-1}, Q = 76.1kJ\\ mol^{-1}$\n",
    "\n",
    "According to equation (2.9) in Porter & Easterling, at 1000K,\n",
    "\n",
    "$D = D_0 exp(-Q/RT) = 0.3 * exp(-76*10^3/(8.314*1000))\\ mm^2s^{-1} = 3.215*10^{-5} mm^2s^{-1}$"
   ]
  },
  {
   "cell_type": "code",
   "execution_count": 99,
   "id": "aa921e60",
   "metadata": {},
   "outputs": [],
   "source": [
    "def interstitial_1D(D=3.215E-5, \n",
    "                    init=[1.0]+[0]*19,\n",
    "                    time=10000,\n",
    "                   ):\n",
    "    '''\n",
    "    Solve the 1D diffusion equation dc/dt = D * d^2c/dx^2 for interstitial diffusion. \n",
    "    The boundary conditions (BC) are fixed concentration at the surface and zero flux through the other end.\n",
    "    \n",
    "    Parameters\n",
    "    ----------\n",
    "    D : Diffusion coefficient, float, unit is mm^2/s. \n",
    "        Default to the diffusion coefficient of interstitial nitrogen diffusing into BCC iron at 1000K.\n",
    "    init : Initial concentration profile, float list, length of the list is the thickness in millimeters,\n",
    "           concentration unit is micro-mole/mm^3.\n",
    "           Default to a step function, everywhere except the surface is 0. \n",
    "           Compare: pure Fe got 141 micro-mole/mm^3.\n",
    "    time : Duration of diffusion, unit is second, step=1s.\n",
    "           Default to 10s.\n",
    "    '''\n",
    "    c = np.zeros((time+1, len(init)+2)) #evolution of concentration profile, plus 2 out of boundary points to fulfill BC\n",
    "    c[0] = np.array([2*init[0]-init[1]] + init + [-init[-2]]) #left BC: constant flux; right BC: no flux.\n",
    "    for t in range(1, time+1):\n",
    "        c[t] = c[t-1] + D * (np.roll(c[t-1], 1) + np.roll(c[t-1], -1) - 2*c[t-1]) #left+right-2*middle\n",
    "        c[t][0] = 2*c[t][1]-c[t][2]; c[t][-1] = -c[t][-3] #update BC points\n",
    "    return c[:,1:-2] #cutoff BC points and the 'infinity' 0 concentration point"
   ]
  },
  {
   "cell_type": "code",
   "execution_count": 100,
   "id": "academic-maldives",
   "metadata": {},
   "outputs": [],
   "source": [
    "c = interstitial_1D()"
   ]
  },
  {
   "cell_type": "code",
   "execution_count": 101,
   "id": "powerful-symposium",
   "metadata": {},
   "outputs": [
    {
     "data": {
      "text/plain": [
       "(10001, 19)"
      ]
     },
     "execution_count": 101,
     "metadata": {},
     "output_type": "execute_result"
    }
   ],
   "source": [
    "c.shape"
   ]
  },
  {
   "cell_type": "code",
   "execution_count": 102,
   "id": "172d8dca",
   "metadata": {},
   "outputs": [
    {
     "data": {
      "text/plain": [
       "array([1.00000000e+00, 2.40629194e-01, 3.46020140e-02, 3.49718868e-03,\n",
       "       2.71122237e-04, 1.70106847e-05, 8.95366372e-07, 4.05651088e-08,\n",
       "       1.61257815e-09, 5.70918122e-11, 1.82166758e-12, 5.28946946e-14,\n",
       "       1.40895168e-15, 3.46631584e-17, 7.92222631e-19, 1.69048379e-20,\n",
       "       3.38267526e-22, 6.37189632e-24, 1.13345336e-25])"
      ]
     },
     "execution_count": 102,
     "metadata": {},
     "output_type": "execute_result"
    }
   ],
   "source": [
    "c[-1]"
   ]
  },
  {
   "cell_type": "code",
   "execution_count": 50,
   "id": "solved-preliminary",
   "metadata": {},
   "outputs": [
    {
     "data": {
      "text/plain": [
       "3.215e-05"
      ]
     },
     "execution_count": 50,
     "metadata": {},
     "output_type": "execute_result"
    }
   ],
   "source": [
    "3.215E-5"
   ]
  },
  {
   "cell_type": "code",
   "execution_count": 11,
   "id": "abstract-playlist",
   "metadata": {},
   "outputs": [
    {
     "data": {
      "text/plain": [
       "3"
      ]
     },
     "execution_count": 11,
     "metadata": {},
     "output_type": "execute_result"
    }
   ],
   "source": [
    "len([1,2,3])"
   ]
  },
  {
   "cell_type": "code",
   "execution_count": 16,
   "id": "numerous-particle",
   "metadata": {},
   "outputs": [
    {
     "data": {
      "text/plain": [
       "[0, 1, 2]"
      ]
     },
     "execution_count": 16,
     "metadata": {},
     "output_type": "execute_result"
    }
   ],
   "source": [
    "np.arange(3).tolist()"
   ]
  },
  {
   "cell_type": "code",
   "execution_count": 13,
   "id": "opposed-medline",
   "metadata": {},
   "outputs": [
    {
     "data": {
      "text/plain": [
       "3"
      ]
     },
     "execution_count": 13,
     "metadata": {},
     "output_type": "execute_result"
    }
   ],
   "source": [
    "a[-1]\n"
   ]
  },
  {
   "cell_type": "code",
   "execution_count": null,
   "id": "entertaining-bangladesh",
   "metadata": {},
   "outputs": [],
   "source": []
  }
 ],
 "metadata": {
  "kernelspec": {
   "display_name": "Python 3",
   "language": "python",
   "name": "python3"
  },
  "language_info": {
   "codemirror_mode": {
    "name": "ipython",
    "version": 3
   },
   "file_extension": ".py",
   "mimetype": "text/x-python",
   "name": "python",
   "nbconvert_exporter": "python",
   "pygments_lexer": "ipython3",
   "version": "3.8.12"
  }
 },
 "nbformat": 4,
 "nbformat_minor": 5
}
