{
 "cells": [
  {
   "cell_type": "code",
   "execution_count": 2,
   "id": "ad62249a",
   "metadata": {},
   "outputs": [],
   "source": [
    "import numpy as np\n",
    "import matplotlib.pyplot as plt"
   ]
  },
  {
   "cell_type": "markdown",
   "id": "13c1dee8",
   "metadata": {},
   "source": [
    "## Question (a): 1D interstitial diffusion"
   ]
  },
  {
   "cell_type": "markdown",
   "id": "f1e1a255",
   "metadata": {},
   "source": [
    "Given Table 2.1 in Porter & Easterling, for nitrogen diffusing interstitially in BCC iron, we have\n",
    "\n",
    "$D_0 = 0.3mm^2s^{-1}, Q = 76.1kJ\\ mol^{-1}$\n",
    "\n",
    "According to equation (2.9) in Porter & Easterling, at 1000K,\n",
    "\n",
    "$D = D_0 exp(-Q/RT) = 0.3 * exp(-76*10^3/(8.314*1000))\\ mm^2s^{-1} = 32.15\\mu m^2s^{-1}$"
   ]
  },
  {
   "cell_type": "code",
   "execution_count": 7,
   "id": "aa921e60",
   "metadata": {},
   "outputs": [],
   "source": [
    "def interstitial_1D(D=32.15, \n",
    "                    init=np.array([1.0]+[0]*999),\n",
    "                    time=1000,\n",
    "                   ):\n",
    "    '''\n",
    "    Solve the 1D diffusion equation dc/dt = D * d^2c/dx^2 \n",
    "    for interstitial diffusion. \n",
    "    The boundary conditions are fixed concentration at the surface\n",
    "    and zero flux through the other end.\n",
    "    \n",
    "    Parameters\n",
    "    ----------\n",
    "    D : Diffusion coefficient, float, unit is micron^2/s. \n",
    "        Default to the diffusion coefficient of interstitial nitrogen\n",
    "        diffusing into BCC iron at 1000K.\n",
    "    init : Initial concentration profile, float numpy array, \n",
    "           length of the array is the thickness in microns,\n",
    "           concentration unit is picomole/micron^3.\n",
    "           Default to a step function, everywhere except the surface is 0.\n",
    "           Compare: pure Fe got 14.1 picomole/micron^3.\n",
    "    time : Duration of diffusion, unit is second, step=1s.\n",
    "           Default to 1000s.\n",
    "    '''\n",
    "    for i in range(time):\n",
    "        "
   ]
  },
  {
   "cell_type": "code",
   "execution_count": null,
   "id": "172d8dca",
   "metadata": {},
   "outputs": [],
   "source": []
  }
 ],
 "metadata": {
  "kernelspec": {
   "display_name": "Python 3",
   "language": "python",
   "name": "python3"
  },
  "language_info": {
   "codemirror_mode": {
    "name": "ipython",
    "version": 3
   },
   "file_extension": ".py",
   "mimetype": "text/x-python",
   "name": "python",
   "nbconvert_exporter": "python",
   "pygments_lexer": "ipython3",
   "version": "3.8.12"
  }
 },
 "nbformat": 4,
 "nbformat_minor": 5
}
