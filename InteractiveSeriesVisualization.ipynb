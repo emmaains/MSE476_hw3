{
 "cells": [
  {
   "cell_type": "markdown",
   "id": "9d3f770b",
   "metadata": {},
   "source": [
    "# Interactive visualization of one- and two-dimensional data\n"
   ]
  },
  {
   "cell_type": "markdown",
   "id": "3eee0dc2",
   "metadata": {},
   "source": [
    "## Import relevant modules\n",
    "\n",
    "Interactivity is based on `interact` and `widgets` from `ipywidgets`.\n",
    "\n",
    "Plotting is conveniently done using `plotly.express`"
   ]
  },
  {
   "cell_type": "code",
   "execution_count": 1,
   "id": "afe2ebf7",
   "metadata": {},
   "outputs": [],
   "source": [
    "import numpy as np\n",
    "import plotly.express as px\n",
    "\n",
    "from ipywidgets import widgets\n",
    "from ipywidgets import interact\n"
   ]
  },
  {
   "cell_type": "markdown",
   "id": "24f1b024",
   "metadata": {},
   "source": [
    "## One-dimensional example\n",
    "\n",
    "We are creating a series of scaled $ a \\sin(x) $ evaluations over the domain $0\\le x \\le 2\\pi$ and $0\\le a \\le 1$.\n",
    "\n",
    "`n` is the number of discrete steps in the spatial domain; `N` is the number of scaling steps. "
   ]
  },
  {
   "cell_type": "code",
   "execution_count": 9,
   "id": "ahead-dependence",
   "metadata": {},
   "outputs": [
    {
     "data": {
      "text/plain": [
       "array([[ 0.00000000e+00,  0.00000000e+00,  0.00000000e+00, ...,\n",
       "        -0.00000000e+00, -0.00000000e+00, -0.00000000e+00],\n",
       "       [ 0.00000000e+00,  1.08857068e-03,  2.17605625e-03, ...,\n",
       "        -2.17605625e-03, -1.08857068e-03, -8.44583999e-18],\n",
       "       [ 0.00000000e+00,  2.17714136e-03,  4.35211250e-03, ...,\n",
       "        -4.35211250e-03, -2.17714136e-03, -1.68916800e-17],\n",
       "       ...,\n",
       "       [ 0.00000000e+00,  2.93914084e-02,  5.87535188e-02, ...,\n",
       "        -5.87535188e-02, -2.93914084e-02, -2.28037680e-16],\n",
       "       [ 0.00000000e+00,  3.04799791e-02,  6.09295751e-02, ...,\n",
       "        -6.09295751e-02, -3.04799791e-02, -2.36483520e-16],\n",
       "       [ 0.00000000e+00,  3.15685498e-02,  6.31056313e-02, ...,\n",
       "        -6.31056313e-02, -3.15685498e-02, -2.44929360e-16]])"
      ]
     },
     "execution_count": 9,
     "metadata": {},
     "output_type": "execute_result"
    }
   ],
   "source": [
    "a[:,np.newaxis]*np.sin(x)[np.newaxis,:]"
   ]
  },
  {
   "cell_type": "code",
   "execution_count": 21,
   "id": "prime-partner",
   "metadata": {},
   "outputs": [
    {
     "ename": "AttributeError",
     "evalue": "'numpy.int64' object has no attribute 'type'",
     "output_type": "error",
     "traceback": [
      "\u001b[0;31m---------------------------------------------------------------------------\u001b[0m",
      "\u001b[0;31mAttributeError\u001b[0m                            Traceback (most recent call last)",
      "\u001b[0;32m<ipython-input-21-95820e2905d3>\u001b[0m in \u001b[0;36m<module>\u001b[0;34m\u001b[0m\n\u001b[1;32m     14\u001b[0m \u001b[0;31m#     fig.show()\u001b[0m\u001b[0;34m\u001b[0m\u001b[0;34m\u001b[0m\u001b[0;34m\u001b[0m\u001b[0m\n\u001b[1;32m     15\u001b[0m \u001b[0;32mfor\u001b[0m \u001b[0mt\u001b[0m \u001b[0;32min\u001b[0m \u001b[0mnp\u001b[0m\u001b[0;34m.\u001b[0m\u001b[0mlinspace\u001b[0m\u001b[0;34m(\u001b[0m\u001b[0;36m0\u001b[0m\u001b[0;34m,\u001b[0m\u001b[0;36m1\u001b[0m\u001b[0;34m,\u001b[0m\u001b[0mN\u001b[0m\u001b[0;34m)\u001b[0m\u001b[0;34m:\u001b[0m\u001b[0;34m\u001b[0m\u001b[0;34m\u001b[0m\u001b[0m\n\u001b[0;32m---> 16\u001b[0;31m     \u001b[0mprint\u001b[0m\u001b[0;34m(\u001b[0m\u001b[0;34m(\u001b[0m\u001b[0mnp\u001b[0m\u001b[0;34m.\u001b[0m\u001b[0mabs\u001b[0m\u001b[0;34m(\u001b[0m\u001b[0ma\u001b[0m \u001b[0;34m-\u001b[0m \u001b[0mt\u001b[0m\u001b[0;34m)\u001b[0m\u001b[0;34m)\u001b[0m\u001b[0;34m.\u001b[0m\u001b[0margmin\u001b[0m\u001b[0;34m(\u001b[0m\u001b[0;34m)\u001b[0m\u001b[0;34m.\u001b[0m\u001b[0mtype\u001b[0m\u001b[0;34m)\u001b[0m\u001b[0;34m\u001b[0m\u001b[0;34m\u001b[0m\u001b[0m\n\u001b[0m",
      "\u001b[0;31mAttributeError\u001b[0m: 'numpy.int64' object has no attribute 'type'"
     ]
    }
   ],
   "source": [
    "n = 200\n",
    "N = 30\n",
    "a = np.linspace(0,1,N)\n",
    "x = np.linspace(0,2*np.pi,n)\n",
    "y = a[:,np.newaxis]*np.sin(x)[np.newaxis,:]\n",
    "#@interact\n",
    "#def view_data(t=widgets.FloatSlider(min=a[0],max=a[-1],step=a[1]-a[0])):\n",
    "#    print((np.abs(a - t)).argmin())\n",
    "#     fig = px.line(x=x,\n",
    "#                   y=y[(np.abs(a - t)).argmin()],\n",
    "#                   range_y=[-1,1],\n",
    "#                   template='seaborn',\n",
    "#                  )\n",
    "#     fig.show()\n",
    "for t in np.linspace(0,1,N):\n",
    "    print((np.abs(a - t)).argmin().type)"
   ]
  },
  {
   "cell_type": "code",
   "execution_count": 10,
   "id": "swiss-palace",
   "metadata": {},
   "outputs": [
    {
     "data": {
      "text/plain": [
       "(array([ 0.,  0.,  0.,  0.,  0.,  0.,  0.,  0.,  0.,  0.,  0.,  0.,  0.,\n",
       "         0.,  0.,  0.,  0.,  0.,  0.,  0.,  0.,  0.,  0.,  0.,  0.,  0.,\n",
       "         0.,  0.,  0.,  0.,  0.,  0.,  0.,  0.,  0.,  0.,  0.,  0.,  0.,\n",
       "         0.,  0.,  0.,  0.,  0.,  0.,  0.,  0.,  0.,  0.,  0.,  0.,  0.,\n",
       "         0.,  0.,  0.,  0.,  0.,  0.,  0.,  0.,  0.,  0.,  0.,  0.,  0.,\n",
       "         0.,  0.,  0.,  0.,  0.,  0.,  0.,  0.,  0.,  0.,  0.,  0.,  0.,\n",
       "         0.,  0.,  0.,  0.,  0.,  0.,  0.,  0.,  0.,  0.,  0.,  0.,  0.,\n",
       "         0.,  0.,  0.,  0.,  0.,  0.,  0.,  0.,  0., -0., -0., -0., -0.,\n",
       "        -0., -0., -0., -0., -0., -0., -0., -0., -0., -0., -0., -0., -0.,\n",
       "        -0., -0., -0., -0., -0., -0., -0., -0., -0., -0., -0., -0., -0.,\n",
       "        -0., -0., -0., -0., -0., -0., -0., -0., -0., -0., -0., -0., -0.,\n",
       "        -0., -0., -0., -0., -0., -0., -0., -0., -0., -0., -0., -0., -0.,\n",
       "        -0., -0., -0., -0., -0., -0., -0., -0., -0., -0., -0., -0., -0.,\n",
       "        -0., -0., -0., -0., -0., -0., -0., -0., -0., -0., -0., -0., -0.,\n",
       "        -0., -0., -0., -0., -0., -0., -0., -0., -0., -0., -0., -0., -0.,\n",
       "        -0., -0., -0., -0., -0.]),)"
      ]
     },
     "execution_count": 10,
     "metadata": {},
     "output_type": "execute_result"
    }
   ],
   "source": [
    "y[(np.abs(a)).argmin()],"
   ]
  },
  {
   "cell_type": "code",
   "execution_count": 14,
   "id": "cd2a0ea4",
   "metadata": {},
   "outputs": [
    {
     "data": {
      "application/vnd.jupyter.widget-view+json": {
       "model_id": "35c6baf8a97a4600a051ee158e7f7d44",
       "version_major": 2,
       "version_minor": 0
      },
      "text/plain": [
       "interactive(children=(FloatSlider(value=0.0, description='t', max=29.0, step=30.0), Output()), _dom_classes=('…"
      ]
     },
     "metadata": {},
     "output_type": "display_data"
    }
   ],
   "source": [
    "n = 200\n",
    "N = 30\n",
    "a = np.linspace(0,1,N)\n",
    "x = np.linspace(0,2*np.pi,n)\n",
    "y = a[:,np.newaxis]*np.sin(x)[np.newaxis,:]\n",
    "@interact\n",
    "def view_data(t=widgets.FloatSlider(min=0,max=29,step=a[1]-a[0])):\n",
    "    fig = px.line(x=x,\n",
    "                  y=y[(np.abs(a - t)).argmin()],\n",
    "                  range_y=[-1,1],\n",
    "                  template='seaborn',\n",
    "                 )\n",
    "    fig.show()\n",
    "    "
   ]
  },
  {
   "cell_type": "code",
   "execution_count": 5,
   "id": "7864da67",
   "metadata": {},
   "outputs": [
    {
     "data": {
      "application/vnd.jupyter.widget-view+json": {
       "model_id": "de66ceb2e30945d2a642dc9fd0b6dc66",
       "version_major": 2,
       "version_minor": 0
      },
      "text/plain": [
       "interactive(children=(FloatSlider(value=0.0, description='t', max=1.0, step=0.034482758620689655), Output()), …"
      ]
     },
     "metadata": {},
     "output_type": "display_data"
    }
   ],
   "source": [
    "@interact\n",
    "def view_data(t=widgets.FloatSlider(min=a[0],max=a[-1],step=a[1]-a[0])):\n",
    "    fig = px.line(x=x,\n",
    "                  y=y[(np.abs(a - t)).argmin()],\n",
    "                  range_y=[-1,1],\n",
    "                  template='seaborn',\n",
    "                 )\n",
    "    fig.show()\n",
    "    "
   ]
  },
  {
   "cell_type": "code",
   "execution_count": null,
   "id": "grand-quantity",
   "metadata": {},
   "outputs": [],
   "source": []
  },
  {
   "cell_type": "markdown",
   "id": "93f523f2",
   "metadata": {},
   "source": [
    "## Two-dimensional example\n",
    "\n",
    "We are creating a series of scaled $ a \\sin(x)\\cos(y) $ evaluations over the domain $0\\le x,y \\le 2\\pi$ and $0\\le a \\le 1$.\n",
    "\n",
    "`n`, `m` are the number of discrete steps in the spatial domain; `N` is the number of scaling steps. "
   ]
  },
  {
   "cell_type": "code",
   "execution_count": 5,
   "id": "d3f5a7ac",
   "metadata": {},
   "outputs": [],
   "source": [
    "n = 50\n",
    "m = 100\n",
    "N = 30\n",
    "a = np.linspace(0,1,N)\n",
    "x = np.linspace(0,2*np.pi,n)\n",
    "y = np.linspace(0,2*np.pi,m)\n",
    "d = a[:,np.newaxis,np.newaxis]\\\n",
    "  * np.sin(x)[np.newaxis,:,np.newaxis]\\\n",
    "  * np.cos(y)[np.newaxis,np.newaxis,:]\n"
   ]
  },
  {
   "cell_type": "markdown",
   "id": "0c251341",
   "metadata": {},
   "source": [
    "Since we would like to slide along the values `a` used to scale our function,\n",
    "it is necessary to find the index of the selected value `t` within the array `a`.\n",
    "This is accomplished by a root-finding strategy, i.e. at what index is the absolute difference `a-t` minimal."
   ]
  },
  {
   "cell_type": "code",
   "execution_count": 6,
   "id": "175283f4",
   "metadata": {},
   "outputs": [
    {
     "data": {
      "application/vnd.jupyter.widget-view+json": {
       "model_id": "c39936abddc745dfa2a8340b3b92334f",
       "version_major": 2,
       "version_minor": 0
      },
      "text/plain": [
       "interactive(children=(FloatSlider(value=0.0, description='t', max=1.0, step=0.034482758620689655), Output()), …"
      ]
     },
     "metadata": {},
     "output_type": "display_data"
    }
   ],
   "source": [
    "@interact\n",
    "def view_data(t=widgets.FloatSlider(min=a[0],\n",
    "                                    max=a[-1],\n",
    "                                    step=a[1]-a[0])):\n",
    "    fig = px.imshow(d[np.abs(a-t).argmin()],\n",
    "                    zmin=-1,\n",
    "                    zmax=1,\n",
    "                    color_continuous_scale='rdbu_r',\n",
    "                   )\n",
    "    fig.show()\n",
    "    "
   ]
  }
 ],
 "metadata": {
  "kernelspec": {
   "display_name": "Python 3",
   "language": "python",
   "name": "python3"
  },
  "language_info": {
   "codemirror_mode": {
    "name": "ipython",
    "version": 3
   },
   "file_extension": ".py",
   "mimetype": "text/x-python",
   "name": "python",
   "nbconvert_exporter": "python",
   "pygments_lexer": "ipython3",
   "version": "3.8.12"
  }
 },
 "nbformat": 4,
 "nbformat_minor": 5
}
