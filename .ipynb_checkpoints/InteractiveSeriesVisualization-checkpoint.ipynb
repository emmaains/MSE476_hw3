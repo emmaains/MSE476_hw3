{
 "cells": [
  {
   "cell_type": "markdown",
   "id": "9d3f770b",
   "metadata": {},
   "source": [
    "# Interactive visualization of one- and two-dimensional data\n"
   ]
  },
  {
   "cell_type": "markdown",
   "id": "3eee0dc2",
   "metadata": {},
   "source": [
    "## Import relevant modules\n",
    "\n",
    "Interactivity is based on `interact` and `widgets` from `ipywidgets`.\n",
    "\n",
    "Plotting is conveniently done using `plotly.express`"
   ]
  },
  {
   "cell_type": "code",
   "execution_count": 1,
   "id": "afe2ebf7",
   "metadata": {},
   "outputs": [],
   "source": [
    "import numpy as np\n",
    "import plotly.express as px\n",
    "\n",
    "from ipywidgets import widgets\n",
    "from ipywidgets import interact\n"
   ]
  },
  {
   "cell_type": "markdown",
   "id": "24f1b024",
   "metadata": {},
   "source": [
    "## One-dimensional example\n",
    "\n",
    "We are creating a series of scaled $ a \\sin(x) $ evaluations over the domain $0\\le x \\le 2\\pi$ and $0\\le a \\le 1$.\n",
    "\n",
    "`n` is the number of discrete steps in the spatial domain; `N` is the number of scaling steps. "
   ]
  },
  {
   "cell_type": "code",
   "execution_count": 2,
   "id": "cd2a0ea4",
   "metadata": {},
   "outputs": [],
   "source": [
    "n = 200\n",
    "N = 30\n",
    "a = np.linspace(0,1,N)\n",
    "x = np.linspace(0,2*np.pi,n)\n",
    "y = a[:,np.newaxis]*np.sin(x)[np.newaxis,:]\n"
   ]
  },
  {
   "cell_type": "code",
   "execution_count": 3,
   "id": "7864da67",
   "metadata": {},
   "outputs": [
    {
     "data": {
      "application/vnd.jupyter.widget-view+json": {
       "model_id": "4121cb1c38db44eea8d8f6100c17589d",
       "version_major": 2,
       "version_minor": 0
      },
      "text/plain": [
       "interactive(children=(FloatSlider(value=0.0, description='t', max=1.0, step=0.034482758620689655), Output()), …"
      ]
     },
     "metadata": {},
     "output_type": "display_data"
    }
   ],
   "source": [
    "@interact\n",
    "def view_data(t=widgets.FloatSlider(min=a[0],max=a[-1],step=a[1]-a[0])):\n",
    "    fig = px.line(x=x,\n",
    "                  y=y[(np.abs(a - t)).argmin()],\n",
    "                  range_y=[-1,1],\n",
    "                  template='seaborn',\n",
    "                 )\n",
    "    fig.show()\n",
    "    "
   ]
  },
  {
   "cell_type": "markdown",
   "id": "93f523f2",
   "metadata": {},
   "source": [
    "## Two-dimensional example\n",
    "\n",
    "We are creating a series of scaled $ a \\sin(x)\\cos(y) $ evaluations over the domain $0\\le x,y \\le 2\\pi$ and $0\\le a \\le 1$.\n",
    "\n",
    "`n`, `m` are the number of discrete steps in the spatial domain; `N` is the number of scaling steps. "
   ]
  },
  {
   "cell_type": "code",
   "execution_count": 5,
   "id": "d3f5a7ac",
   "metadata": {},
   "outputs": [],
   "source": [
    "n = 50\n",
    "m = 100\n",
    "N = 30\n",
    "a = np.linspace(0,1,N)\n",
    "x = np.linspace(0,2*np.pi,n)\n",
    "y = np.linspace(0,2*np.pi,m)\n",
    "d = a[:,np.newaxis,np.newaxis]\\\n",
    "  * np.sin(x)[np.newaxis,:,np.newaxis]\\\n",
    "  * np.cos(y)[np.newaxis,np.newaxis,:]\n"
   ]
  },
  {
   "cell_type": "markdown",
   "id": "0c251341",
   "metadata": {},
   "source": [
    "Since we would like to slide along the values `a` used to scale our function,\n",
    "it is necessary to find the index of the selected value `t` within the array `a`.\n",
    "This is accomplished by a root-finding strategy, i.e. at what index is the absolute difference `a-t` minimal."
   ]
  },
  {
   "cell_type": "code",
   "execution_count": 6,
   "id": "175283f4",
   "metadata": {},
   "outputs": [
    {
     "data": {
      "application/vnd.jupyter.widget-view+json": {
       "model_id": "c39936abddc745dfa2a8340b3b92334f",
       "version_major": 2,
       "version_minor": 0
      },
      "text/plain": [
       "interactive(children=(FloatSlider(value=0.0, description='t', max=1.0, step=0.034482758620689655), Output()), …"
      ]
     },
     "metadata": {},
     "output_type": "display_data"
    }
   ],
   "source": [
    "@interact\n",
    "def view_data(t=widgets.FloatSlider(min=a[0],\n",
    "                                    max=a[-1],\n",
    "                                    step=a[1]-a[0])):\n",
    "    fig = px.imshow(d[np.abs(a-t).argmin()],\n",
    "                    zmin=-1,\n",
    "                    zmax=1,\n",
    "                    color_continuous_scale='rdbu_r',\n",
    "                   )\n",
    "    fig.show()\n",
    "    "
   ]
  }
 ],
 "metadata": {
  "kernelspec": {
   "display_name": "Python 3",
   "language": "python",
   "name": "python3"
  },
  "language_info": {
   "codemirror_mode": {
    "name": "ipython",
    "version": 3
   },
   "file_extension": ".py",
   "mimetype": "text/x-python",
   "name": "python",
   "nbconvert_exporter": "python",
   "pygments_lexer": "ipython3",
   "version": "3.8.12"
  }
 },
 "nbformat": 4,
 "nbformat_minor": 5
}
